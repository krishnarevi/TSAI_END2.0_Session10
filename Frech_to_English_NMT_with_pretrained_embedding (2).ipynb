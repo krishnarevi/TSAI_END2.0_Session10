{
  "nbformat": 4,
  "nbformat_minor": 0,
  "metadata": {
    "colab": {
      "name": "English to French_translation_with_pre-trained_embedding - Seq2Seq.ipynb",
      "provenance": [],
      "machine_shape": "hm",
      "include_colab_link": true
    },
    "kernelspec": {
      "name": "python3",
      "display_name": "Python 3"
    },
    "language_info": {
      "name": "python"
    },
    "accelerator": "GPU"
  },
  "cells": [
    {
      "cell_type": "markdown",
      "metadata": {
        "id": "view-in-github",
        "colab_type": "text"
      },
      "source": [
        "<a href=\"https://colab.research.google.com/github/krishnarevi/TSAI_END2.0_Session10/blob/main/Frech_to_English_NMT_with_pretrained_embedding%20(2).ipynb\" target=\"_parent\"><img src=\"https://colab.research.google.com/assets/colab-badge.svg\" alt=\"Open In Colab\"/></a>"
      ]
    },
    {
      "cell_type": "markdown",
      "metadata": {
        "id": "N3685g53e0h9"
      },
      "source": [
        "# English to French translation \n",
        "\n",
        "In the original blog in Pytorch website , they've shown French to English model but here we will be showcasing English to French translation in similar manner"
      ]
    },
    {
      "cell_type": "code",
      "metadata": {
        "id": "M5itkEpV8lg8"
      },
      "source": [
        "%matplotlib inline"
      ],
      "execution_count": null,
      "outputs": []
    },
    {
      "cell_type": "markdown",
      "metadata": {
        "id": "qsNz8tab8vv9"
      },
      "source": [
        "\n",
        "NLP From Scratch: Translation with a Sequence to Sequence Network and Attention\n",
        "*******************************************************************************\n",
        "**Author**: `Sean Robertson <https://github.com/spro/practical-pytorch>`_\n",
        "[PyTorch Source](https://pytorch.org/tutorials/intermediate/seq2seq_translation_tutorial.html)\n",
        "\n",
        "This is the third and final tutorial on doing \"NLP From Scratch\", where we\n",
        "write our own classes and functions to preprocess the data to do our NLP\n",
        "modeling tasks. We hope after you complete this tutorial that you'll proceed to\n",
        "learn how `torchtext` can handle much of this preprocessing for you in the\n",
        "three tutorials immediately following this one.\n",
        "\n",
        "In this project we will be teaching a neural network to translate from\n",
        "English to French.\n",
        "\n",
        "This is made possible by the simple but powerful idea of the [sequence to sequence network](https://arxiv.org/abs/1409.3215), in which two\n",
        "recurrent neural networks work together to transform one sequence to\n",
        "another. An encoder network condenses an input sequence into a vector,\n",
        "and a decoder network unfolds that vector into a new sequence.\n",
        "\n",
        "\n",
        "To improve upon this model we'll use an [attention\n",
        "mechanism](https://arxiv.org/abs/1409.0473), which lets the decoder\n",
        "learn to focus over a specific range of the input sequence.\n",
        "\n",
        "**Recommended Reading:**\n",
        "\n",
        "I assume you have at least installed PyTorch, know Python, and\n",
        "understand Tensors:\n",
        "\n",
        "-  https://pytorch.org/ For installation instructions\n",
        "-  [Deep Learning with PyTorch](https://pytorch.org/tutorials/beginner/deep_learning_60min_blitz.html): A 60 Minute Blitz to get started with PyTorch in general\n",
        "-  [Learning PyTorch with Examples](https://pytorch.org/tutorials/beginner/pytorch_with_examples.html) for a wide and deep overview\n",
        "\n",
        "\n",
        "It would also be useful to know about Sequence to Sequence networks and\n",
        "how they work:\n",
        "\n",
        "-  [Learning Phrase Representations using RNN Encoder-Decoder for Statistical Machine Translation](https://arxiv.org/abs/1406.1078)\n",
        "-  [Sequence to Sequence Learning with Neural Networks](https://arxiv.org/abs/1409.3215)\n",
        "-  [Neural Machine Translation by Jointly Learning to Align and Translate](https://arxiv.org/abs/1409.0473)\n",
        "-  [A Neural Conversational Model](https://arxiv.org/abs/1506.05869)\n",
        "\n",
        "\n",
        "\n",
        "![Image](https://pytorch.org/tutorials/_images/seq2seq.png)\n",
        "\n",
        "**Requirements**"
      ]
    },
    {
      "cell_type": "code",
      "metadata": {
        "id": "ZqDcYg2i8viM",
        "colab": {
          "base_uri": "https://localhost:8080/"
        },
        "outputId": "d7c45bcb-e9fa-4dde-a077-405e4d2ef2ab"
      },
      "source": [
        "#bolz not available, install it \n",
        "!pip install bcolz\n",
        "from __future__ import unicode_literals, print_function, division\n",
        "from io import open\n",
        "import unicodedata\n",
        "import string\n",
        "import re\n",
        "import random\n",
        "import bcolz  # to process the data from Glove File \n",
        "import pickle # to dump and load pretrained glove vectors \n",
        "import copy   # to make deepcopy of python lists and dictionaries\n",
        "import operator\n",
        "import numpy as np\n",
        "from pandas import DataFrame # to visualize the glove word embeddings in form of DataFrame\n",
        "import torch\n",
        "import torch.nn as nn\n",
        "from torch import optim\n",
        "import torch.nn.functional as F\n",
        "device = torch.device(\"cuda\" if torch.cuda.is_available() else \"cpu\")"
      ],
      "execution_count": null,
      "outputs": [
        {
          "output_type": "stream",
          "text": [
            "Collecting bcolz\n",
            "\u001b[?25l  Downloading https://files.pythonhosted.org/packages/5c/4e/23942de9d5c0fb16f10335fa83e52b431bcb8c0d4a8419c9ac206268c279/bcolz-1.2.1.tar.gz (1.5MB)\n",
            "\r\u001b[K     |▎                               | 10kB 21.8MB/s eta 0:00:01\r\u001b[K     |▌                               | 20kB 27.1MB/s eta 0:00:01\r\u001b[K     |▊                               | 30kB 32.8MB/s eta 0:00:01\r\u001b[K     |█                               | 40kB 25.5MB/s eta 0:00:01\r\u001b[K     |█▏                              | 51kB 16.2MB/s eta 0:00:01\r\u001b[K     |█▍                              | 61kB 17.5MB/s eta 0:00:01\r\u001b[K     |█▋                              | 71kB 15.8MB/s eta 0:00:01\r\u001b[K     |█▉                              | 81kB 15.1MB/s eta 0:00:01\r\u001b[K     |██                              | 92kB 16.3MB/s eta 0:00:01\r\u001b[K     |██▎                             | 102kB 14.7MB/s eta 0:00:01\r\u001b[K     |██▌                             | 112kB 14.7MB/s eta 0:00:01\r\u001b[K     |██▊                             | 122kB 14.7MB/s eta 0:00:01\r\u001b[K     |███                             | 133kB 14.7MB/s eta 0:00:01\r\u001b[K     |███▏                            | 143kB 14.7MB/s eta 0:00:01\r\u001b[K     |███▍                            | 153kB 14.7MB/s eta 0:00:01\r\u001b[K     |███▋                            | 163kB 14.7MB/s eta 0:00:01\r\u001b[K     |███▉                            | 174kB 14.7MB/s eta 0:00:01\r\u001b[K     |████                            | 184kB 14.7MB/s eta 0:00:01\r\u001b[K     |████▎                           | 194kB 14.7MB/s eta 0:00:01\r\u001b[K     |████▌                           | 204kB 14.7MB/s eta 0:00:01\r\u001b[K     |████▊                           | 215kB 14.7MB/s eta 0:00:01\r\u001b[K     |█████                           | 225kB 14.7MB/s eta 0:00:01\r\u001b[K     |█████▏                          | 235kB 14.7MB/s eta 0:00:01\r\u001b[K     |█████▍                          | 245kB 14.7MB/s eta 0:00:01\r\u001b[K     |█████▋                          | 256kB 14.7MB/s eta 0:00:01\r\u001b[K     |█████▉                          | 266kB 14.7MB/s eta 0:00:01\r\u001b[K     |██████                          | 276kB 14.7MB/s eta 0:00:01\r\u001b[K     |██████▎                         | 286kB 14.7MB/s eta 0:00:01\r\u001b[K     |██████▌                         | 296kB 14.7MB/s eta 0:00:01\r\u001b[K     |██████▊                         | 307kB 14.7MB/s eta 0:00:01\r\u001b[K     |███████                         | 317kB 14.7MB/s eta 0:00:01\r\u001b[K     |███████▏                        | 327kB 14.7MB/s eta 0:00:01\r\u001b[K     |███████▍                        | 337kB 14.7MB/s eta 0:00:01\r\u001b[K     |███████▋                        | 348kB 14.7MB/s eta 0:00:01\r\u001b[K     |███████▉                        | 358kB 14.7MB/s eta 0:00:01\r\u001b[K     |████████                        | 368kB 14.7MB/s eta 0:00:01\r\u001b[K     |████████▎                       | 378kB 14.7MB/s eta 0:00:01\r\u001b[K     |████████▌                       | 389kB 14.7MB/s eta 0:00:01\r\u001b[K     |████████▊                       | 399kB 14.7MB/s eta 0:00:01\r\u001b[K     |█████████                       | 409kB 14.7MB/s eta 0:00:01\r\u001b[K     |█████████▏                      | 419kB 14.7MB/s eta 0:00:01\r\u001b[K     |█████████▍                      | 430kB 14.7MB/s eta 0:00:01\r\u001b[K     |█████████▋                      | 440kB 14.7MB/s eta 0:00:01\r\u001b[K     |█████████▉                      | 450kB 14.7MB/s eta 0:00:01\r\u001b[K     |██████████                      | 460kB 14.7MB/s eta 0:00:01\r\u001b[K     |██████████▎                     | 471kB 14.7MB/s eta 0:00:01\r\u001b[K     |██████████▋                     | 481kB 14.7MB/s eta 0:00:01\r\u001b[K     |██████████▉                     | 491kB 14.7MB/s eta 0:00:01\r\u001b[K     |███████████                     | 501kB 14.7MB/s eta 0:00:01\r\u001b[K     |███████████▎                    | 512kB 14.7MB/s eta 0:00:01\r\u001b[K     |███████████▌                    | 522kB 14.7MB/s eta 0:00:01\r\u001b[K     |███████████▊                    | 532kB 14.7MB/s eta 0:00:01\r\u001b[K     |████████████                    | 542kB 14.7MB/s eta 0:00:01\r\u001b[K     |████████████▏                   | 552kB 14.7MB/s eta 0:00:01\r\u001b[K     |████████████▍                   | 563kB 14.7MB/s eta 0:00:01\r\u001b[K     |████████████▋                   | 573kB 14.7MB/s eta 0:00:01\r\u001b[K     |████████████▉                   | 583kB 14.7MB/s eta 0:00:01\r\u001b[K     |█████████████                   | 593kB 14.7MB/s eta 0:00:01\r\u001b[K     |█████████████▎                  | 604kB 14.7MB/s eta 0:00:01\r\u001b[K     |█████████████▌                  | 614kB 14.7MB/s eta 0:00:01\r\u001b[K     |█████████████▊                  | 624kB 14.7MB/s eta 0:00:01\r\u001b[K     |██████████████                  | 634kB 14.7MB/s eta 0:00:01\r\u001b[K     |██████████████▏                 | 645kB 14.7MB/s eta 0:00:01\r\u001b[K     |██████████████▍                 | 655kB 14.7MB/s eta 0:00:01\r\u001b[K     |██████████████▋                 | 665kB 14.7MB/s eta 0:00:01\r\u001b[K     |██████████████▉                 | 675kB 14.7MB/s eta 0:00:01\r\u001b[K     |███████████████                 | 686kB 14.7MB/s eta 0:00:01\r\u001b[K     |███████████████▎                | 696kB 14.7MB/s eta 0:00:01\r\u001b[K     |███████████████▌                | 706kB 14.7MB/s eta 0:00:01\r\u001b[K     |███████████████▊                | 716kB 14.7MB/s eta 0:00:01\r\u001b[K     |████████████████                | 727kB 14.7MB/s eta 0:00:01\r\u001b[K     |████████████████▏               | 737kB 14.7MB/s eta 0:00:01\r\u001b[K     |████████████████▍               | 747kB 14.7MB/s eta 0:00:01\r\u001b[K     |████████████████▋               | 757kB 14.7MB/s eta 0:00:01\r\u001b[K     |████████████████▉               | 768kB 14.7MB/s eta 0:00:01\r\u001b[K     |█████████████████               | 778kB 14.7MB/s eta 0:00:01\r\u001b[K     |█████████████████▎              | 788kB 14.7MB/s eta 0:00:01\r\u001b[K     |█████████████████▌              | 798kB 14.7MB/s eta 0:00:01\r\u001b[K     |█████████████████▊              | 808kB 14.7MB/s eta 0:00:01\r\u001b[K     |██████████████████              | 819kB 14.7MB/s eta 0:00:01\r\u001b[K     |██████████████████▏             | 829kB 14.7MB/s eta 0:00:01\r\u001b[K     |██████████████████▍             | 839kB 14.7MB/s eta 0:00:01\r\u001b[K     |██████████████████▋             | 849kB 14.7MB/s eta 0:00:01\r\u001b[K     |██████████████████▉             | 860kB 14.7MB/s eta 0:00:01\r\u001b[K     |███████████████████             | 870kB 14.7MB/s eta 0:00:01\r\u001b[K     |███████████████████▎            | 880kB 14.7MB/s eta 0:00:01\r\u001b[K     |███████████████████▌            | 890kB 14.7MB/s eta 0:00:01\r\u001b[K     |███████████████████▊            | 901kB 14.7MB/s eta 0:00:01\r\u001b[K     |████████████████████            | 911kB 14.7MB/s eta 0:00:01\r\u001b[K     |████████████████████▏           | 921kB 14.7MB/s eta 0:00:01\r\u001b[K     |████████████████████▍           | 931kB 14.7MB/s eta 0:00:01\r\u001b[K     |████████████████████▋           | 942kB 14.7MB/s eta 0:00:01\r\u001b[K     |████████████████████▉           | 952kB 14.7MB/s eta 0:00:01\r\u001b[K     |█████████████████████▏          | 962kB 14.7MB/s eta 0:00:01\r\u001b[K     |█████████████████████▍          | 972kB 14.7MB/s eta 0:00:01\r\u001b[K     |█████████████████████▋          | 983kB 14.7MB/s eta 0:00:01\r\u001b[K     |█████████████████████▉          | 993kB 14.7MB/s eta 0:00:01\r\u001b[K     |██████████████████████          | 1.0MB 14.7MB/s eta 0:00:01\r\u001b[K     |██████████████████████▎         | 1.0MB 14.7MB/s eta 0:00:01\r\u001b[K     |██████████████████████▌         | 1.0MB 14.7MB/s eta 0:00:01\r\u001b[K     |██████████████████████▊         | 1.0MB 14.7MB/s eta 0:00:01\r\u001b[K     |███████████████████████         | 1.0MB 14.7MB/s eta 0:00:01\r\u001b[K     |███████████████████████▏        | 1.1MB 14.7MB/s eta 0:00:01\r\u001b[K     |███████████████████████▍        | 1.1MB 14.7MB/s eta 0:00:01\r\u001b[K     |███████████████████████▋        | 1.1MB 14.7MB/s eta 0:00:01\r\u001b[K     |███████████████████████▉        | 1.1MB 14.7MB/s eta 0:00:01\r\u001b[K     |████████████████████████        | 1.1MB 14.7MB/s eta 0:00:01\r\u001b[K     |████████████████████████▎       | 1.1MB 14.7MB/s eta 0:00:01\r\u001b[K     |████████████████████████▌       | 1.1MB 14.7MB/s eta 0:00:01\r\u001b[K     |████████████████████████▊       | 1.1MB 14.7MB/s eta 0:00:01\r\u001b[K     |█████████████████████████       | 1.1MB 14.7MB/s eta 0:00:01\r\u001b[K     |█████████████████████████▏      | 1.1MB 14.7MB/s eta 0:00:01\r\u001b[K     |█████████████████████████▍      | 1.2MB 14.7MB/s eta 0:00:01\r\u001b[K     |█████████████████████████▋      | 1.2MB 14.7MB/s eta 0:00:01\r\u001b[K     |█████████████████████████▉      | 1.2MB 14.7MB/s eta 0:00:01\r\u001b[K     |██████████████████████████      | 1.2MB 14.7MB/s eta 0:00:01\r\u001b[K     |██████████████████████████▎     | 1.2MB 14.7MB/s eta 0:00:01\r\u001b[K     |██████████████████████████▌     | 1.2MB 14.7MB/s eta 0:00:01\r\u001b[K     |██████████████████████████▊     | 1.2MB 14.7MB/s eta 0:00:01\r\u001b[K     |███████████████████████████     | 1.2MB 14.7MB/s eta 0:00:01\r\u001b[K     |███████████████████████████▏    | 1.2MB 14.7MB/s eta 0:00:01\r\u001b[K     |███████████████████████████▍    | 1.2MB 14.7MB/s eta 0:00:01\r\u001b[K     |███████████████████████████▋    | 1.3MB 14.7MB/s eta 0:00:01\r\u001b[K     |███████████████████████████▉    | 1.3MB 14.7MB/s eta 0:00:01\r\u001b[K     |████████████████████████████    | 1.3MB 14.7MB/s eta 0:00:01\r\u001b[K     |████████████████████████████▎   | 1.3MB 14.7MB/s eta 0:00:01\r\u001b[K     |████████████████████████████▌   | 1.3MB 14.7MB/s eta 0:00:01\r\u001b[K     |████████████████████████████▊   | 1.3MB 14.7MB/s eta 0:00:01\r\u001b[K     |█████████████████████████████   | 1.3MB 14.7MB/s eta 0:00:01\r\u001b[K     |█████████████████████████████▏  | 1.3MB 14.7MB/s eta 0:00:01\r\u001b[K     |█████████████████████████████▍  | 1.3MB 14.7MB/s eta 0:00:01\r\u001b[K     |█████████████████████████████▋  | 1.4MB 14.7MB/s eta 0:00:01\r\u001b[K     |█████████████████████████████▉  | 1.4MB 14.7MB/s eta 0:00:01\r\u001b[K     |██████████████████████████████  | 1.4MB 14.7MB/s eta 0:00:01\r\u001b[K     |██████████████████████████████▎ | 1.4MB 14.7MB/s eta 0:00:01\r\u001b[K     |██████████████████████████████▌ | 1.4MB 14.7MB/s eta 0:00:01\r\u001b[K     |██████████████████████████████▊ | 1.4MB 14.7MB/s eta 0:00:01\r\u001b[K     |███████████████████████████████ | 1.4MB 14.7MB/s eta 0:00:01\r\u001b[K     |███████████████████████████████▏| 1.4MB 14.7MB/s eta 0:00:01\r\u001b[K     |███████████████████████████████▍| 1.4MB 14.7MB/s eta 0:00:01\r\u001b[K     |███████████████████████████████▊| 1.4MB 14.7MB/s eta 0:00:01\r\u001b[K     |████████████████████████████████| 1.5MB 14.7MB/s eta 0:00:01\r\u001b[K     |████████████████████████████████| 1.5MB 14.7MB/s \n",
            "\u001b[?25hRequirement already satisfied: numpy>=1.7 in /usr/local/lib/python3.7/dist-packages (from bcolz) (1.19.5)\n",
            "Building wheels for collected packages: bcolz\n",
            "  Building wheel for bcolz (setup.py) ... \u001b[?25l\u001b[?25hdone\n",
            "  Created wheel for bcolz: filename=bcolz-1.2.1-cp37-cp37m-linux_x86_64.whl size=2647369 sha256=f2421aee6a1285a1beaec6fe0a07952ee080c7807edeca2956e1c528cf9f43f7\n",
            "  Stored in directory: /root/.cache/pip/wheels/9f/78/26/fb8c0acb91a100dc8914bf236c4eaa4b207cb876893c40b745\n",
            "Successfully built bcolz\n",
            "Installing collected packages: bcolz\n",
            "Successfully installed bcolz-1.2.1\n"
          ],
          "name": "stdout"
        }
      ]
    },
    {
      "cell_type": "markdown",
      "metadata": {
        "id": "-ZuFz8bbFou5"
      },
      "source": [
        "bcolz provides columnar, chunked data containers that can be compressed either in-memory and on-disk. Column storage allows for efficiently querying tables, as well as for cheap column addition and removal.# carray can keep data compressed (both in-memory and on-disk), allowing to deal with larger datasets with the same amount of memory/disk."
      ]
    },
    {
      "cell_type": "code",
      "metadata": {
        "colab": {
          "base_uri": "https://localhost:8080/"
        },
        "id": "IAFW8SFw8sSI",
        "outputId": "a3549ea4-5b07-43d1-bac6-a91d8e9285c7"
      },
      "source": [
        "device"
      ],
      "execution_count": null,
      "outputs": [
        {
          "output_type": "execute_result",
          "data": {
            "text/plain": [
              "device(type='cuda')"
            ]
          },
          "metadata": {
            "tags": []
          },
          "execution_count": 3
        }
      ]
    },
    {
      "cell_type": "code",
      "metadata": {
        "id": "iiS5UgolTCzD",
        "colab": {
          "base_uri": "https://localhost:8080/"
        },
        "outputId": "56e9d2ac-c97c-48a0-f764-d5e6b82e6e63"
      },
      "source": [
        "from google.colab import drive\n",
        "drive.mount('/content/drive')"
      ],
      "execution_count": null,
      "outputs": [
        {
          "output_type": "stream",
          "text": [
            "Mounted at /content/drive\n"
          ],
          "name": "stdout"
        }
      ]
    },
    {
      "cell_type": "markdown",
      "metadata": {
        "id": "GZ_b8qFPBbjf"
      },
      "source": [
        "## Loading Glove Word Vectors"
      ]
    },
    {
      "cell_type": "markdown",
      "metadata": {
        "id": "Jvqt_2KTTELN"
      },
      "source": [
        "We want our model to be trained in such a way so that it can handle unseen sentences in the form of input.Pretrained word embeddings are a useful feature for mapping synonyms to their corresponding counterparts. We'll download the GloVe Vectors from the following link http://nlp.stanford.edu/data/glove.6B.zip, unzip the folder and keep it in the Gdrive. "
      ]
    },
    {
      "cell_type": "code",
      "metadata": {
        "colab": {
          "base_uri": "https://localhost:8080/"
        },
        "id": "-4Esp9HxDcUu",
        "outputId": "50ecbe39-4911-4d19-afd9-ba1b24c540e4"
      },
      "source": [
        "# !unzip \"/content/drive/MyDrive/TSAI_data/glove.6B.100d.txt.zip\" -d \"/content/drive/MyDrive/TSAI_data/glove.6B\""
      ],
      "execution_count": null,
      "outputs": [
        {
          "output_type": "stream",
          "text": [
            "unzip:  cannot find or open /content/drive/MyDrive/TSAI_data/glove.6B.100d.txt.zip, /content/drive/MyDrive/TSAI_data/glove.6B.100d.txt.zip.zip or /content/drive/MyDrive/TSAI_data/glove.6B.100d.txt.zip.ZIP.\n"
          ],
          "name": "stdout"
        }
      ]
    },
    {
      "cell_type": "markdown",
      "metadata": {
        "id": "jiSbM_8KIFE7"
      },
      "source": [
        "Here we would use Glove Word Embeddings, which has 40,000 words and available in 50,100,200,300 dimenstions. We'll be using the \"glove.6B.100d\" vectors\".  6B indicates these vectors were trained on 6 billion tokens and 100d indicates these vectors are 100-dimensional.\n"
      ]
    },
    {
      "cell_type": "code",
      "metadata": {
        "id": "9bYs86CTBfXZ"
      },
      "source": [
        "words = []\n",
        "idx = 0\n",
        "word2idx = {}\n",
        "vectors = bcolz.carray(np.zeros(1), rootdir=f'/content/drive/MyDrive/TSAI_data/glove.6B/6B_100d.dat', mode='w')# create an empty bcolz array (carray: bcolz container for homogeneous & heterogeneous (row-wise) data)\n",
        "\n",
        "with open(f'/content/drive/MyDrive/TSAI_data/glove.6B/glove.6B.100d.txt', 'rb') as f:\n",
        "    for l in f:\n",
        "        # Each line of glove embedding text file will be in format --> b'word emb1 emb2 emb3 ....\n",
        "        line = l.decode().split() # decode each line and convert into list of items, will be in format --> ['word', 'emb1', 'emb2', 'emb3' ....]\n",
        "        word = line[0] # first item of line is word, format --> ['word', 'emb1', 'emb2', 'emb3' ....]\n",
        "\n",
        "        words.append(word) # append word to list of words\n",
        "        word2idx[word] = idx # add corresponding index to word2idx dictionary\n",
        "        idx += 1 # increment index counter\n",
        "        # print(word2idx)\n",
        "        \n",
        "        vect = np.array(line[1:]).astype(np.float) # create an array with remaining items from line (embedding values) \n",
        "        vectors.append(vect)# appending array of embedding values to bcolz carray\n",
        "    \n",
        "vectors = bcolz.carray(vectors[1:].reshape((400000, 100)), rootdir=f'/content/drive/MyDrive/TSAI_data/glove.6B/6B_100d.dat', mode='w')\n",
        "vectors.flush()# Flush data in internal buffers to disk.This call should typically be done after performing modifications\n",
        "pickle.dump(words, open(f'/content/drive/MyDrive/TSAI_data/glove.6B/6B.100_words.pkl', 'wb')) # save list of words\n",
        "pickle.dump(word2idx, open(f'/content/drive/MyDrive/TSAI_data/glove.6B/6B.100_idx.pkl', 'wb')) # save dictionary with words and corresponing indices"
      ],
      "execution_count": null,
      "outputs": []
    },
    {
      "cell_type": "markdown",
      "metadata": {
        "id": "dX8PIvViNp9J"
      },
      "source": [
        "Using those objects we can now create a dictionary that given a word returns its vector."
      ]
    },
    {
      "cell_type": "code",
      "metadata": {
        "id": "RTR1iiX3No0J"
      },
      "source": [
        "vectors = bcolz.open(f'/content/drive/MyDrive/TSAI_data/glove.6B/6B_100d.dat')[:]\n",
        "words = pickle.load(open(f'/content/drive/MyDrive/TSAI_data/glove.6B/6B.100_words.pkl', 'rb'))\n",
        "word2idx = pickle.load(open(f'/content/drive/MyDrive/TSAI_data/glove.6B/6B.100_idx.pkl', 'rb'))\n",
        "\n",
        "glove = {w: vectors[word2idx[w]] for w in words} # create a dictionary that given a word returns its vector using bcolz array and word2idx dictionary"
      ],
      "execution_count": null,
      "outputs": []
    },
    {
      "cell_type": "code",
      "metadata": {
        "colab": {
          "base_uri": "https://localhost:8080/"
        },
        "id": "I3Y6edHwOp4T",
        "outputId": "ed0f3b5f-2b2e-446d-e5ce-fd232076503e"
      },
      "source": [
        "dict_pairs = word2idx.items()\n",
        "pairs_iterator = iter(dict_pairs)\n",
        "first_pair = next(pairs_iterator)\n",
        "first_pair"
      ],
      "execution_count": null,
      "outputs": [
        {
          "output_type": "execute_result",
          "data": {
            "text/plain": [
              "('the', 0)"
            ]
          },
          "metadata": {
            "tags": []
          },
          "execution_count": 10
        }
      ]
    },
    {
      "cell_type": "markdown",
      "metadata": {
        "id": "277jq8iDONoh"
      },
      "source": [
        "### Lets Visulaize the Glove Word Embeddings by making a Pandas DataFrame\n"
      ]
    },
    {
      "cell_type": "markdown",
      "metadata": {
        "id": "nf7nL0hFIJXB"
      },
      "source": [
        "Before we load the vectors in code, we have to understand how the dataframe generated from glove.6B.100d.txt text file  is formatted.\n",
        "Each row of the frame contains a word, followed by N numbers. The N numbers describe the vector of the word’s position. N may vary depending on which vectors you downloaded, Here for us, N is 100, since we're using glove.6B.100d.\n",
        "Here are first few rows from dataframe"
      ]
    },
    {
      "cell_type": "code",
      "metadata": {
        "id": "9zTKI4vfOaAP"
      },
      "source": [
        "glove_dframe = DataFrame(vectors, columns=range(1,101), index=words)"
      ],
      "execution_count": null,
      "outputs": []
    },
    {
      "cell_type": "code",
      "metadata": {
        "colab": {
          "base_uri": "https://localhost:8080/",
          "height": 253
        },
        "id": "KLH6cmrbOd_B",
        "outputId": "1254bdba-98d7-4337-cb37-8da6ea1b369d"
      },
      "source": [
        "glove_dframe[250:255]"
      ],
      "execution_count": null,
      "outputs": [
        {
          "output_type": "execute_result",
          "data": {
            "text/html": [
              "<div>\n",
              "<style scoped>\n",
              "    .dataframe tbody tr th:only-of-type {\n",
              "        vertical-align: middle;\n",
              "    }\n",
              "\n",
              "    .dataframe tbody tr th {\n",
              "        vertical-align: top;\n",
              "    }\n",
              "\n",
              "    .dataframe thead th {\n",
              "        text-align: right;\n",
              "    }\n",
              "</style>\n",
              "<table border=\"1\" class=\"dataframe\">\n",
              "  <thead>\n",
              "    <tr style=\"text-align: right;\">\n",
              "      <th></th>\n",
              "      <th>1</th>\n",
              "      <th>2</th>\n",
              "      <th>3</th>\n",
              "      <th>4</th>\n",
              "      <th>5</th>\n",
              "      <th>6</th>\n",
              "      <th>7</th>\n",
              "      <th>8</th>\n",
              "      <th>9</th>\n",
              "      <th>10</th>\n",
              "      <th>11</th>\n",
              "      <th>12</th>\n",
              "      <th>13</th>\n",
              "      <th>14</th>\n",
              "      <th>15</th>\n",
              "      <th>16</th>\n",
              "      <th>17</th>\n",
              "      <th>18</th>\n",
              "      <th>19</th>\n",
              "      <th>20</th>\n",
              "      <th>21</th>\n",
              "      <th>22</th>\n",
              "      <th>23</th>\n",
              "      <th>24</th>\n",
              "      <th>25</th>\n",
              "      <th>26</th>\n",
              "      <th>27</th>\n",
              "      <th>28</th>\n",
              "      <th>29</th>\n",
              "      <th>30</th>\n",
              "      <th>31</th>\n",
              "      <th>32</th>\n",
              "      <th>33</th>\n",
              "      <th>34</th>\n",
              "      <th>35</th>\n",
              "      <th>36</th>\n",
              "      <th>37</th>\n",
              "      <th>38</th>\n",
              "      <th>39</th>\n",
              "      <th>40</th>\n",
              "      <th>...</th>\n",
              "      <th>61</th>\n",
              "      <th>62</th>\n",
              "      <th>63</th>\n",
              "      <th>64</th>\n",
              "      <th>65</th>\n",
              "      <th>66</th>\n",
              "      <th>67</th>\n",
              "      <th>68</th>\n",
              "      <th>69</th>\n",
              "      <th>70</th>\n",
              "      <th>71</th>\n",
              "      <th>72</th>\n",
              "      <th>73</th>\n",
              "      <th>74</th>\n",
              "      <th>75</th>\n",
              "      <th>76</th>\n",
              "      <th>77</th>\n",
              "      <th>78</th>\n",
              "      <th>79</th>\n",
              "      <th>80</th>\n",
              "      <th>81</th>\n",
              "      <th>82</th>\n",
              "      <th>83</th>\n",
              "      <th>84</th>\n",
              "      <th>85</th>\n",
              "      <th>86</th>\n",
              "      <th>87</th>\n",
              "      <th>88</th>\n",
              "      <th>89</th>\n",
              "      <th>90</th>\n",
              "      <th>91</th>\n",
              "      <th>92</th>\n",
              "      <th>93</th>\n",
              "      <th>94</th>\n",
              "      <th>95</th>\n",
              "      <th>96</th>\n",
              "      <th>97</th>\n",
              "      <th>98</th>\n",
              "      <th>99</th>\n",
              "      <th>100</th>\n",
              "    </tr>\n",
              "  </thead>\n",
              "  <tbody>\n",
              "    <tr>\n",
              "      <th>local</th>\n",
              "      <td>-0.257050</td>\n",
              "      <td>-0.056895</td>\n",
              "      <td>-0.38103</td>\n",
              "      <td>-0.163300</td>\n",
              "      <td>-0.19937</td>\n",
              "      <td>0.73123</td>\n",
              "      <td>-0.83978</td>\n",
              "      <td>0.12207</td>\n",
              "      <td>0.064000</td>\n",
              "      <td>-0.051298</td>\n",
              "      <td>-0.20529</td>\n",
              "      <td>-0.516080</td>\n",
              "      <td>1.071500</td>\n",
              "      <td>-0.398330</td>\n",
              "      <td>-0.011018</td>\n",
              "      <td>-0.67058</td>\n",
              "      <td>0.617790</td>\n",
              "      <td>-0.46179</td>\n",
              "      <td>-0.60280</td>\n",
              "      <td>0.58382</td>\n",
              "      <td>0.058594</td>\n",
              "      <td>-0.114260</td>\n",
              "      <td>0.30986</td>\n",
              "      <td>-0.453580</td>\n",
              "      <td>-0.642950</td>\n",
              "      <td>-0.56793</td>\n",
              "      <td>0.496370</td>\n",
              "      <td>-0.218140</td>\n",
              "      <td>-0.37259</td>\n",
              "      <td>0.512120</td>\n",
              "      <td>-0.30333</td>\n",
              "      <td>0.49532</td>\n",
              "      <td>-0.010940</td>\n",
              "      <td>-0.20761</td>\n",
              "      <td>-0.29515</td>\n",
              "      <td>-0.091099</td>\n",
              "      <td>-0.19297</td>\n",
              "      <td>0.08766</td>\n",
              "      <td>0.22425</td>\n",
              "      <td>-0.28002</td>\n",
              "      <td>...</td>\n",
              "      <td>-0.35130</td>\n",
              "      <td>0.380080</td>\n",
              "      <td>-0.038145</td>\n",
              "      <td>0.41435</td>\n",
              "      <td>0.95104</td>\n",
              "      <td>-0.360150</td>\n",
              "      <td>-0.39613</td>\n",
              "      <td>-0.081013</td>\n",
              "      <td>1.27360</td>\n",
              "      <td>-0.189930</td>\n",
              "      <td>-0.57729</td>\n",
              "      <td>-0.10705</td>\n",
              "      <td>0.31843</td>\n",
              "      <td>-0.58925</td>\n",
              "      <td>0.59191</td>\n",
              "      <td>0.031524</td>\n",
              "      <td>0.21643</td>\n",
              "      <td>0.033633</td>\n",
              "      <td>-1.436100</td>\n",
              "      <td>-0.10702</td>\n",
              "      <td>1.18110</td>\n",
              "      <td>-0.36954</td>\n",
              "      <td>0.10760</td>\n",
              "      <td>-0.268700</td>\n",
              "      <td>-0.99119</td>\n",
              "      <td>-0.19391</td>\n",
              "      <td>-0.722320</td>\n",
              "      <td>0.47841</td>\n",
              "      <td>-0.052689</td>\n",
              "      <td>-0.20413</td>\n",
              "      <td>0.50409</td>\n",
              "      <td>-0.185520</td>\n",
              "      <td>-0.46622</td>\n",
              "      <td>0.38134</td>\n",
              "      <td>-1.33920</td>\n",
              "      <td>0.007273</td>\n",
              "      <td>-0.187330</td>\n",
              "      <td>-0.21285</td>\n",
              "      <td>1.17710</td>\n",
              "      <td>0.134270</td>\n",
              "    </tr>\n",
              "    <tr>\n",
              "      <th>economic</th>\n",
              "      <td>-0.284780</td>\n",
              "      <td>0.375160</td>\n",
              "      <td>0.55130</td>\n",
              "      <td>-0.076136</td>\n",
              "      <td>0.15334</td>\n",
              "      <td>-1.62840</td>\n",
              "      <td>-0.95933</td>\n",
              "      <td>-0.50316</td>\n",
              "      <td>0.039571</td>\n",
              "      <td>-0.309780</td>\n",
              "      <td>-0.72058</td>\n",
              "      <td>0.011059</td>\n",
              "      <td>0.139050</td>\n",
              "      <td>0.021045</td>\n",
              "      <td>0.333340</td>\n",
              "      <td>0.35104</td>\n",
              "      <td>0.049221</td>\n",
              "      <td>-0.46151</td>\n",
              "      <td>-0.37864</td>\n",
              "      <td>-0.80170</td>\n",
              "      <td>0.156280</td>\n",
              "      <td>-0.026987</td>\n",
              "      <td>-0.36452</td>\n",
              "      <td>0.398570</td>\n",
              "      <td>-0.446400</td>\n",
              "      <td>-0.32123</td>\n",
              "      <td>-0.267640</td>\n",
              "      <td>-0.272700</td>\n",
              "      <td>-0.75611</td>\n",
              "      <td>0.066483</td>\n",
              "      <td>-0.41891</td>\n",
              "      <td>0.12742</td>\n",
              "      <td>-0.398950</td>\n",
              "      <td>-0.13781</td>\n",
              "      <td>-0.79163</td>\n",
              "      <td>0.019778</td>\n",
              "      <td>0.76592</td>\n",
              "      <td>0.17778</td>\n",
              "      <td>-0.66502</td>\n",
              "      <td>0.25263</td>\n",
              "      <td>...</td>\n",
              "      <td>-0.68325</td>\n",
              "      <td>-0.043972</td>\n",
              "      <td>-1.587300</td>\n",
              "      <td>-0.73150</td>\n",
              "      <td>0.57191</td>\n",
              "      <td>0.016932</td>\n",
              "      <td>-0.74551</td>\n",
              "      <td>-0.390120</td>\n",
              "      <td>0.94790</td>\n",
              "      <td>-0.276280</td>\n",
              "      <td>0.30177</td>\n",
              "      <td>0.19945</td>\n",
              "      <td>-0.59499</td>\n",
              "      <td>-0.72658</td>\n",
              "      <td>-0.00007</td>\n",
              "      <td>-0.332680</td>\n",
              "      <td>-0.73221</td>\n",
              "      <td>0.309870</td>\n",
              "      <td>-0.743500</td>\n",
              "      <td>-0.21245</td>\n",
              "      <td>0.89183</td>\n",
              "      <td>0.91067</td>\n",
              "      <td>-0.49182</td>\n",
              "      <td>0.245680</td>\n",
              "      <td>-1.08340</td>\n",
              "      <td>-0.16051</td>\n",
              "      <td>-0.537220</td>\n",
              "      <td>-0.41795</td>\n",
              "      <td>-0.169810</td>\n",
              "      <td>-1.72090</td>\n",
              "      <td>0.71727</td>\n",
              "      <td>0.286040</td>\n",
              "      <td>-0.36732</td>\n",
              "      <td>-0.43136</td>\n",
              "      <td>-0.20268</td>\n",
              "      <td>0.282930</td>\n",
              "      <td>0.373870</td>\n",
              "      <td>-1.02150</td>\n",
              "      <td>0.93333</td>\n",
              "      <td>0.253010</td>\n",
              "    </tr>\n",
              "    <tr>\n",
              "      <th>countries</th>\n",
              "      <td>-0.044561</td>\n",
              "      <td>0.807090</td>\n",
              "      <td>0.65634</td>\n",
              "      <td>0.629470</td>\n",
              "      <td>0.39004</td>\n",
              "      <td>-0.93213</td>\n",
              "      <td>-0.76302</td>\n",
              "      <td>0.42372</td>\n",
              "      <td>0.154600</td>\n",
              "      <td>-0.301350</td>\n",
              "      <td>-0.42703</td>\n",
              "      <td>-0.902570</td>\n",
              "      <td>0.839600</td>\n",
              "      <td>0.345440</td>\n",
              "      <td>-0.143050</td>\n",
              "      <td>-0.05969</td>\n",
              "      <td>-0.106650</td>\n",
              "      <td>-0.36013</td>\n",
              "      <td>-1.08140</td>\n",
              "      <td>-0.46282</td>\n",
              "      <td>0.202710</td>\n",
              "      <td>0.982070</td>\n",
              "      <td>0.81273</td>\n",
              "      <td>0.248900</td>\n",
              "      <td>-0.099348</td>\n",
              "      <td>-0.33795</td>\n",
              "      <td>0.886800</td>\n",
              "      <td>-0.021359</td>\n",
              "      <td>0.61900</td>\n",
              "      <td>0.275420</td>\n",
              "      <td>0.33176</td>\n",
              "      <td>0.35076</td>\n",
              "      <td>-0.422310</td>\n",
              "      <td>-0.35760</td>\n",
              "      <td>0.78743</td>\n",
              "      <td>0.604840</td>\n",
              "      <td>0.99953</td>\n",
              "      <td>-0.23172</td>\n",
              "      <td>-1.13620</td>\n",
              "      <td>-0.10917</td>\n",
              "      <td>...</td>\n",
              "      <td>-0.41677</td>\n",
              "      <td>0.375770</td>\n",
              "      <td>-0.386000</td>\n",
              "      <td>-0.66276</td>\n",
              "      <td>0.18125</td>\n",
              "      <td>0.682190</td>\n",
              "      <td>-0.73745</td>\n",
              "      <td>0.619240</td>\n",
              "      <td>1.02880</td>\n",
              "      <td>-1.135800</td>\n",
              "      <td>0.47732</td>\n",
              "      <td>-0.68831</td>\n",
              "      <td>-0.25906</td>\n",
              "      <td>-0.24152</td>\n",
              "      <td>0.12149</td>\n",
              "      <td>0.179690</td>\n",
              "      <td>-0.59431</td>\n",
              "      <td>-0.159650</td>\n",
              "      <td>-0.899260</td>\n",
              "      <td>0.26984</td>\n",
              "      <td>1.35450</td>\n",
              "      <td>0.38361</td>\n",
              "      <td>-0.30642</td>\n",
              "      <td>-0.000253</td>\n",
              "      <td>-1.77660</td>\n",
              "      <td>0.33007</td>\n",
              "      <td>-0.428990</td>\n",
              "      <td>-0.29176</td>\n",
              "      <td>-0.406810</td>\n",
              "      <td>-0.34011</td>\n",
              "      <td>-0.49462</td>\n",
              "      <td>-0.075762</td>\n",
              "      <td>-0.18940</td>\n",
              "      <td>-1.03770</td>\n",
              "      <td>-1.02480</td>\n",
              "      <td>0.777040</td>\n",
              "      <td>-0.856040</td>\n",
              "      <td>-0.38777</td>\n",
              "      <td>0.43467</td>\n",
              "      <td>-0.098984</td>\n",
              "    </tr>\n",
              "    <tr>\n",
              "      <th>see</th>\n",
              "      <td>-0.538490</td>\n",
              "      <td>0.551650</td>\n",
              "      <td>0.55302</td>\n",
              "      <td>-0.128530</td>\n",
              "      <td>-0.83347</td>\n",
              "      <td>-0.18351</td>\n",
              "      <td>-0.68146</td>\n",
              "      <td>-0.10191</td>\n",
              "      <td>0.275400</td>\n",
              "      <td>-0.935780</td>\n",
              "      <td>0.31549</td>\n",
              "      <td>-0.088179</td>\n",
              "      <td>0.574090</td>\n",
              "      <td>0.019388</td>\n",
              "      <td>0.399860</td>\n",
              "      <td>0.12030</td>\n",
              "      <td>0.054404</td>\n",
              "      <td>0.57910</td>\n",
              "      <td>-0.29440</td>\n",
              "      <td>0.40506</td>\n",
              "      <td>0.069719</td>\n",
              "      <td>0.098094</td>\n",
              "      <td>-0.29510</td>\n",
              "      <td>0.008688</td>\n",
              "      <td>-0.128090</td>\n",
              "      <td>-0.32105</td>\n",
              "      <td>-0.025895</td>\n",
              "      <td>-0.819100</td>\n",
              "      <td>0.59909</td>\n",
              "      <td>-0.301370</td>\n",
              "      <td>-0.20741</td>\n",
              "      <td>0.33283</td>\n",
              "      <td>-0.031685</td>\n",
              "      <td>0.14548</td>\n",
              "      <td>0.22311</td>\n",
              "      <td>0.070665</td>\n",
              "      <td>0.13616</td>\n",
              "      <td>0.13111</td>\n",
              "      <td>0.22918</td>\n",
              "      <td>-0.54223</td>\n",
              "      <td>...</td>\n",
              "      <td>-0.48554</td>\n",
              "      <td>1.189800</td>\n",
              "      <td>-0.612260</td>\n",
              "      <td>-0.29466</td>\n",
              "      <td>0.97594</td>\n",
              "      <td>0.499020</td>\n",
              "      <td>0.40480</td>\n",
              "      <td>0.434720</td>\n",
              "      <td>-0.42451</td>\n",
              "      <td>0.075017</td>\n",
              "      <td>0.27316</td>\n",
              "      <td>-0.11885</td>\n",
              "      <td>-0.23070</td>\n",
              "      <td>-0.83570</td>\n",
              "      <td>0.25594</td>\n",
              "      <td>-0.305530</td>\n",
              "      <td>0.40892</td>\n",
              "      <td>-0.231550</td>\n",
              "      <td>-0.331670</td>\n",
              "      <td>-0.33892</td>\n",
              "      <td>0.47770</td>\n",
              "      <td>-0.30843</td>\n",
              "      <td>-0.28573</td>\n",
              "      <td>-0.128730</td>\n",
              "      <td>-1.40930</td>\n",
              "      <td>-0.32600</td>\n",
              "      <td>-0.074515</td>\n",
              "      <td>-0.48386</td>\n",
              "      <td>-0.081271</td>\n",
              "      <td>-0.38135</td>\n",
              "      <td>0.21294</td>\n",
              "      <td>-0.350870</td>\n",
              "      <td>-0.20170</td>\n",
              "      <td>-0.27303</td>\n",
              "      <td>-0.67174</td>\n",
              "      <td>-0.478740</td>\n",
              "      <td>0.065045</td>\n",
              "      <td>-0.55736</td>\n",
              "      <td>0.14538</td>\n",
              "      <td>0.109730</td>\n",
              "    </tr>\n",
              "    <tr>\n",
              "      <th>best</th>\n",
              "      <td>0.138880</td>\n",
              "      <td>0.197030</td>\n",
              "      <td>0.69614</td>\n",
              "      <td>-0.252450</td>\n",
              "      <td>0.27820</td>\n",
              "      <td>-0.10279</td>\n",
              "      <td>0.26171</td>\n",
              "      <td>-0.57924</td>\n",
              "      <td>-0.937220</td>\n",
              "      <td>0.017069</td>\n",
              "      <td>0.29262</td>\n",
              "      <td>-0.678920</td>\n",
              "      <td>-0.097272</td>\n",
              "      <td>-0.232480</td>\n",
              "      <td>-0.377390</td>\n",
              "      <td>0.16118</td>\n",
              "      <td>0.787440</td>\n",
              "      <td>-0.13034</td>\n",
              "      <td>-0.12699</td>\n",
              "      <td>1.19080</td>\n",
              "      <td>0.406430</td>\n",
              "      <td>0.112930</td>\n",
              "      <td>0.28953</td>\n",
              "      <td>-0.104280</td>\n",
              "      <td>0.544340</td>\n",
              "      <td>-0.13944</td>\n",
              "      <td>-0.048211</td>\n",
              "      <td>-0.653720</td>\n",
              "      <td>0.16007</td>\n",
              "      <td>-0.368690</td>\n",
              "      <td>-0.56376</td>\n",
              "      <td>0.70947</td>\n",
              "      <td>0.160940</td>\n",
              "      <td>0.27678</td>\n",
              "      <td>0.60225</td>\n",
              "      <td>0.383600</td>\n",
              "      <td>-0.70038</td>\n",
              "      <td>0.60794</td>\n",
              "      <td>-0.44648</td>\n",
              "      <td>-0.22266</td>\n",
              "      <td>...</td>\n",
              "      <td>-0.45182</td>\n",
              "      <td>1.046400</td>\n",
              "      <td>-0.445160</td>\n",
              "      <td>0.43409</td>\n",
              "      <td>1.02550</td>\n",
              "      <td>-0.542860</td>\n",
              "      <td>0.53580</td>\n",
              "      <td>0.554990</td>\n",
              "      <td>0.10994</td>\n",
              "      <td>-0.193710</td>\n",
              "      <td>0.26765</td>\n",
              "      <td>0.37448</td>\n",
              "      <td>-0.12293</td>\n",
              "      <td>0.28966</td>\n",
              "      <td>0.25910</td>\n",
              "      <td>0.138270</td>\n",
              "      <td>-0.66627</td>\n",
              "      <td>-0.266860</td>\n",
              "      <td>-0.043653</td>\n",
              "      <td>-0.45594</td>\n",
              "      <td>0.21608</td>\n",
              "      <td>0.40072</td>\n",
              "      <td>-0.36511</td>\n",
              "      <td>-0.173810</td>\n",
              "      <td>-1.54610</td>\n",
              "      <td>-0.14220</td>\n",
              "      <td>-0.123850</td>\n",
              "      <td>-0.10278</td>\n",
              "      <td>-0.156020</td>\n",
              "      <td>-0.38509</td>\n",
              "      <td>-0.25157</td>\n",
              "      <td>0.161110</td>\n",
              "      <td>0.22440</td>\n",
              "      <td>-0.25486</td>\n",
              "      <td>-0.76973</td>\n",
              "      <td>0.454260</td>\n",
              "      <td>-0.399220</td>\n",
              "      <td>-0.41385</td>\n",
              "      <td>0.72304</td>\n",
              "      <td>0.881760</td>\n",
              "    </tr>\n",
              "  </tbody>\n",
              "</table>\n",
              "<p>5 rows × 100 columns</p>\n",
              "</div>"
            ],
            "text/plain": [
              "                1         2        3    ...      98       99        100\n",
              "local     -0.257050 -0.056895 -0.38103  ... -0.21285  1.17710  0.134270\n",
              "economic  -0.284780  0.375160  0.55130  ... -1.02150  0.93333  0.253010\n",
              "countries -0.044561  0.807090  0.65634  ... -0.38777  0.43467 -0.098984\n",
              "see       -0.538490  0.551650  0.55302  ... -0.55736  0.14538  0.109730\n",
              "best       0.138880  0.197030  0.69614  ... -0.41385  0.72304  0.881760\n",
              "\n",
              "[5 rows x 100 columns]"
            ]
          },
          "metadata": {
            "tags": []
          },
          "execution_count": 12
        }
      ]
    },
    {
      "cell_type": "markdown",
      "metadata": {
        "id": "xvQIJ7J0RHjt"
      },
      "source": [
        "for Later processing swapping 'sos' token index and 'eos' token index\n",
        "- 'sos' token to be at index = 0\n",
        "- 'eos' token to be at index = 1"
      ]
    },
    {
      "cell_type": "code",
      "metadata": {
        "id": "dsWCrIVQRAcZ"
      },
      "source": [
        "\n",
        "sos_index = word2idx['sos']\n",
        "eos_index = word2idx['eos']\n",
        "sos_swap_word = words[0]\n",
        "eos_swap_word = words[1]\n",
        "\n",
        "words[0], words[sos_index] = words[sos_index], words[0]\n",
        "words[1], words[eos_index] = words[eos_index], words[1]\n",
        "word2idx[sos_swap_word], word2idx['sos'] = word2idx['sos'], word2idx[sos_swap_word]\n",
        "word2idx[eos_swap_word], word2idx['eos'] = word2idx['eos'], word2idx[eos_swap_word]"
      ],
      "execution_count": null,
      "outputs": []
    },
    {
      "cell_type": "markdown",
      "metadata": {
        "id": "mWf5aG3NRnkh"
      },
      "source": [
        "Creating Sorted Instance of word2idx"
      ]
    },
    {
      "cell_type": "code",
      "metadata": {
        "id": "OzrKdo1kRrNp"
      },
      "source": [
        "word2idx = { k : v for k , v in sorted(word2idx.items(), key=operator.itemgetter(1))} #sort dictionary based on value"
      ],
      "execution_count": null,
      "outputs": []
    },
    {
      "cell_type": "markdown",
      "metadata": {
        "id": "Y1TyJ8Wa9SWa"
      },
      "source": [
        "Loading data files\n",
        "==================\n",
        "\n",
        "The data for this project is a set of many thousands of English to\n",
        "French translation pairs.\n",
        "\n",
        "[This question on Open Data Stack\n",
        "Exchange](https://opendata.stackexchange.com/questions/3888/dataset-of-sentences-translated-into-many-languages)\n",
        "pointed me/him to the open translation site https://tatoeba.org/ which has\n",
        "downloads available at https://tatoeba.org/eng/downloads - and better\n",
        "yet, someone did the extra work of splitting language pairs into\n",
        "individual text files here: https://www.manythings.org/anki/\n",
        "\n",
        "The English to French pairs are too big to include in the repo, so\n",
        "download to ``data/eng-fra.txt`` before continuing. The file is a tab\n",
        "separated list of translation pairs:\n",
        "\n",
        "::\n",
        "\n",
        "    I am cold.    J'ai froid.\n",
        "\n",
        ".. Note::\n",
        "   Download the data from\n",
        "   `here <https://download.pytorch.org/tutorial/data.zip>`_\n",
        "   and extract it to the current directory.\n",
        "\n"
      ]
    },
    {
      "cell_type": "code",
      "metadata": {
        "id": "f3oTyLwy9QJc"
      },
      "source": [
        "# !wget https://download.pytorch.org/tutorial/data.zip\n",
        "\n",
        "# !unzip data.zip"
      ],
      "execution_count": null,
      "outputs": []
    },
    {
      "cell_type": "markdown",
      "metadata": {
        "id": "NTUc4_Y39kI8"
      },
      "source": [
        "Similar to the character encoding used in the character-level RNN\n",
        "tutorials, we will be representing each word in a language as a one-hot\n",
        "vector, or giant vector of zeros except for a single one (at the index\n",
        "of the word). Compared to the dozens of characters that might exist in a\n",
        "language, there are many many more words, so the encoding vector is much\n",
        "larger. We will however cheat a bit and trim the data to only use a few\n",
        "thousand words per language.\n",
        "\n",
        "![image](https://pytorch.org/tutorials/_images/word-encoding.png)\n",
        "\n",
        "We'll need a unique index per word to use as the inputs and targets of\n",
        "the networks later. To keep track of all this we will use a helper class\n",
        "called ``Lang`` which has word → index (``word2index``) and index → word\n",
        "(``index2word``) dictionaries, as well as a count of each word\n",
        "``word2count`` which will be used to replace rare words later.\n",
        "\n",
        "\n",
        "\n",
        "\n",
        "\n",
        "\n"
      ]
    },
    {
      "cell_type": "markdown",
      "metadata": {
        "id": "ASgoz1L-0bbv"
      },
      "source": [
        "# Creating 2 Seperate Classes for Input Lang and Ouput Lang\n",
        "Class 1 - > InputLang - built from Glove\n",
        "\n",
        "Class 2 - > OutputLang - built from Target Dictionary"
      ]
    },
    {
      "cell_type": "code",
      "metadata": {
        "id": "ZK5RUId70ae7"
      },
      "source": [
        "class InputLang:\n",
        "    def __init__(self, name):\n",
        "        self.name = name\n",
        "        self.word2index = { k : v for k , v in sorted(word2idx.items(), key=operator.itemgetter(1))}\n",
        "        self.word2count = { word : 1 for word in words }\n",
        "        self.index2word = { i : word for word, i in word2idx.items() }\n",
        "        self.n_words = 400001\n",
        "\n",
        "    def addSentence(self, sentence):\n",
        "        for word in sentence.split(' '):\n",
        "            self.addWord(word)\n",
        "\n",
        "    def addWord(self, word):\n",
        "        if word not in self.word2index:\n",
        "            self.word2index[word] = self.n_words\n",
        "            self.word2count[word] = 1\n",
        "            self.index2word[self.n_words] = word\n",
        "            self.n_words += 1\n",
        "        else:\n",
        "            self.word2count[word] += 1"
      ],
      "execution_count": null,
      "outputs": []
    },
    {
      "cell_type": "code",
      "metadata": {
        "id": "eFMraJTS9ZNK"
      },
      "source": [
        "SOS_token = 0\n",
        "EOS_token = 1\n",
        "\n",
        "\n",
        "class OutputLang:\n",
        "    def __init__(self, name):\n",
        "        self.name = name\n",
        "        self.word2index = {}\n",
        "        self.word2count = {}\n",
        "        self.index2word = {0: \"sos\", 1: \"eos\"}\n",
        "        self.n_words = 2  # Count SOS and EOS\n",
        "\n",
        "    def addSentence(self, sentence):\n",
        "        for word in sentence.split(' '):\n",
        "            self.addWord(word)\n",
        "\n",
        "    def addWord(self, word):\n",
        "        if word not in self.word2index:\n",
        "            self.word2index[word] = self.n_words\n",
        "            self.word2count[word] = 1\n",
        "            self.index2word[self.n_words] = word\n",
        "            self.n_words += 1\n",
        "        else:\n",
        "            self.word2count[word] += 1"
      ],
      "execution_count": null,
      "outputs": []
    },
    {
      "cell_type": "markdown",
      "metadata": {
        "id": "oJE4u93r-X6U"
      },
      "source": [
        "The files are all in Unicode, to simplify we will turn Unicode\n",
        "characters to ASCII, make everything lowercase, and trim most\n",
        "punctuation."
      ]
    },
    {
      "cell_type": "code",
      "metadata": {
        "id": "7IW0YV2V-CQn"
      },
      "source": [
        "# Turn a Unicode string to plain ASCII, thanks to\n",
        "# https://stackoverflow.com/a/518232/2809427\n",
        "def unicodeToAscii(s):\n",
        "    return ''.join(\n",
        "        c for c in unicodedata.normalize('NFD', s)\n",
        "        if unicodedata.category(c) != 'Mn'\n",
        "    )\n",
        "\n",
        "# Lowercase, trim, and remove non-letter characters\n",
        "\n",
        "\n",
        "def normalizeString(s):\n",
        "    s = unicodeToAscii(s.lower().strip())\n",
        "    s = re.sub(r\"([.!?])\", r\" \\1\", s)\n",
        "    s = re.sub(r\"[^a-zA-Z.!?]+\", r\" \", s)\n",
        "    return s"
      ],
      "execution_count": null,
      "outputs": []
    },
    {
      "cell_type": "markdown",
      "metadata": {
        "id": "BeLfKrt1-mRl"
      },
      "source": [
        "To read the data file we will split the file into lines, and then split\n",
        "lines into pairs. The files are all English → Other Language, so if we\n",
        "want to translate from Other Language → English I added the ``reverse``\n",
        "flag to reverse the pairs.\n",
        "\n",
        "\n"
      ]
    },
    {
      "cell_type": "code",
      "metadata": {
        "id": "Xb1A00CI-bkc"
      },
      "source": [
        "def readLangs(lang1, lang2, reverse=False):\n",
        "    print(\"Reading lines...\")\n",
        "\n",
        "    # Read the file and split into lines\n",
        "    lines = open('/content/drive/MyDrive/TSAI_data/eng-fra.txt', encoding='utf-8').\\\n",
        "        read().strip().split('\\n')\n",
        "\n",
        "    # Split every line into pairs and normalize\n",
        "    pairs = [[normalizeString(s) for s in l.split('\\t')] for l in lines]\n",
        "\n",
        "    # Reverse pairs, make Lang instances\n",
        "    if reverse:\n",
        "        pairs = [list(reversed(p)) for p in pairs]\n",
        "        input_lang = InputLang(lang2)\n",
        "        output_lang = OutputLang(lang1)\n",
        "    else:\n",
        "        input_lang = InputLang(lang1)\n",
        "        output_lang = OutputLang(lang2)\n",
        "\n",
        "    return input_lang, output_lang, pairs"
      ],
      "execution_count": null,
      "outputs": []
    },
    {
      "cell_type": "markdown",
      "metadata": {
        "id": "2jeyg6pR_Q37"
      },
      "source": [
        "Since there are a *lot* of example sentences and we want to train\n",
        "something quickly, we'll trim the data set to only relatively short and\n",
        "simple sentences. Here the maximum length is 10 words (that includes\n",
        "ending punctuation) and we're filtering to sentences that translate to\n",
        "the form \"I am\" or \"He is\" etc. (accounting for apostrophes replaced\n",
        "earlier).\n",
        "\n",
        "\n"
      ]
    },
    {
      "cell_type": "code",
      "metadata": {
        "id": "r9A5NZZv--0b"
      },
      "source": [
        "MAX_LENGTH = 10\n",
        "\n",
        "eng_prefixes = (\n",
        "    \"i am \", \"i m \",\n",
        "    \"he is\", \"he s \",\n",
        "    \"she is\", \"she s \",\n",
        "    \"you are\", \"you re \",\n",
        "    \"we are\", \"we re \",\n",
        "    \"they are\", \"they re \"\n",
        ")\n",
        "\n",
        "\n",
        "def filterPair(p):\n",
        "    return len(p[0].split(' ')) < MAX_LENGTH and \\\n",
        "        len(p[1].split(' ')) < MAX_LENGTH and \\\n",
        "        p[0].startswith(eng_prefixes)\n",
        "\n",
        "\n",
        "def filterPairs(pairs):\n",
        "    return [pair for pair in pairs if filterPair(pair)]"
      ],
      "execution_count": null,
      "outputs": []
    },
    {
      "cell_type": "markdown",
      "metadata": {
        "id": "BsM9dAsq_bcG"
      },
      "source": [
        "The full process for preparing the data is:\n",
        "\n",
        "-  Read text file and split into lines, split lines into pairs\n",
        "-  Normalize text, filter by length and content\n",
        "-  Make word lists from sentences in pairs\n",
        "\n",
        "\n"
      ]
    },
    {
      "cell_type": "code",
      "metadata": {
        "colab": {
          "base_uri": "https://localhost:8080/"
        },
        "id": "Y7PPDK3g_XP0",
        "outputId": "2c60de0c-c02a-4be5-dd10-d15616ce16ae"
      },
      "source": [
        "def prepareData(lang1, lang2, reverse=False):\n",
        "    input_lang, output_lang, pairs = readLangs(lang1, lang2, reverse)\n",
        "    print(\"Read %s sentence pairs\" % len(pairs))\n",
        "    pairs = filterPairs(pairs)\n",
        "    print(\"Trimmed to %s sentence pairs\" % len(pairs))\n",
        "    print(\"Counting words...\")\n",
        "    for pair in pairs:\n",
        "        input_lang.addSentence(pair[0])\n",
        "        output_lang.addSentence(pair[1])\n",
        "    print(\"Counted words:\")\n",
        "    print(input_lang.name, input_lang.n_words)\n",
        "    print(output_lang.name, output_lang.n_words)\n",
        "    return input_lang, output_lang, pairs\n",
        "\n",
        "\n",
        "input_lang, output_lang, pairs = prepareData('eng', 'fra', False)\n",
        "print(random.choice(pairs))"
      ],
      "execution_count": null,
      "outputs": [
        {
          "output_type": "stream",
          "text": [
            "Reading lines...\n",
            "Read 135842 sentence pairs\n",
            "Trimmed to 10599 sentence pairs\n",
            "Counting words...\n",
            "Counted words:\n",
            "eng 400005\n",
            "fra 4345\n",
            "['i am thinking about my children .', 'je pense a mes enfants .']\n"
          ],
          "name": "stdout"
        }
      ]
    },
    {
      "cell_type": "markdown",
      "metadata": {
        "id": "b9-noX0L6ykR"
      },
      "source": [
        "## Initializing weight Matrix\n",
        "We must build a matrix of weights that will be loaded into the PyTorch embedding layer. Its shape will be equal to:\n",
        "(dataset’s vocabulary length, word vectors dimension)"
      ]
    },
    {
      "cell_type": "code",
      "metadata": {
        "id": "PDbVcNQv68QC"
      },
      "source": [
        "matrix_len = input_lang.n_words\n",
        "\n",
        "weights_matrix = np.zeros((matrix_len, 100))\n",
        "words_found = 0\n",
        "\n",
        "for i, word in enumerate(input_lang.word2index):\n",
        "    try: \n",
        "        weights_matrix[i] = glove[word]\n",
        "        words_found += 1\n",
        "    except KeyError:\n",
        "        weights_matrix[i] = np.random.normal(scale=0.6, size=(100, ))"
      ],
      "execution_count": null,
      "outputs": []
    },
    {
      "cell_type": "markdown",
      "metadata": {
        "id": "1d_VOEOt_rHQ"
      },
      "source": [
        "The Seq2Seq Model\n",
        "=================\n",
        "\n",
        "A Recurrent Neural Network, or RNN, is a network that operates on a\n",
        "sequence and uses its own output as input for subsequent steps.\n",
        "\n",
        "A [Sequence to Sequence network](https://arxiv.org/abs/1409.3215), or\n",
        "seq2seq network, or [Encoder Decoder\n",
        "network](https://arxiv.org/pdf/1406.1078v3.pdf), is a model\n",
        "consisting of two RNNs called the encoder and decoder. The encoder reads\n",
        "an input sequence and outputs a single vector, and the decoder reads\n",
        "that vector to produce an output sequence.\n",
        "\n",
        "![image](https://pytorch.org/tutorials/_images/seq2seq.png)\n",
        "\n",
        "Unlike sequence prediction with a single RNN, where every input\n",
        "corresponds to an output, the seq2seq model frees us from sequence\n",
        "length and order, which makes it ideal for translation between two\n",
        "languages.\n",
        "\n",
        "Consider the sentence \"Je ne suis pas le chat noir\" → \"I am not the\n",
        "black cat\". Most of the words in the input sentence have a direct\n",
        "translation in the output sentence, but are in slightly different\n",
        "orders, e.g. \"chat noir\" and \"black cat\". Because of the \"ne/pas\"\n",
        "construction there is also one more word in the input sentence. It would\n",
        "be difficult to produce a correct translation directly from the sequence\n",
        "of input words.\n",
        "\n",
        "With a seq2seq model the encoder creates a single vector which, in the\n",
        "ideal case, encodes the \"meaning\" of the input sequence into a single\n",
        "vector — a single point in some N dimensional space of sentences.\n",
        "\n",
        "\n"
      ]
    },
    {
      "cell_type": "markdown",
      "metadata": {
        "id": "yLs5l_HkBVUp"
      },
      "source": [
        "The Encoder\n",
        "-----------\n",
        "\n",
        "The encoder of a seq2seq network is a RNN that outputs some value for\n",
        "every word from the input sentence. For every input word the encoder\n",
        "outputs a vector and a hidden state, and uses the hidden state for the\n",
        "next input word.\n",
        "\n",
        "![image](https://pytorch.org/tutorials/_images/encoder-network.png)"
      ]
    },
    {
      "cell_type": "code",
      "metadata": {
        "id": "XyGTQKCL_giE"
      },
      "source": [
        "class EncoderRNN(nn.Module):\n",
        "    def __init__(self, num_embeddings, embedding_dim):\n",
        "        super(EncoderRNN, self).__init__()\n",
        "        self.hidden_size = embedding_dim\n",
        "\n",
        "        self.embedding = nn.Embedding(num_embeddings, embedding_dim)\n",
        "        self.embedding.weight.data.copy_(torch.from_numpy(weights_matrix))\n",
        "        self.gru = nn.GRU(hidden_size, hidden_size)\n",
        "\n",
        "    def forward(self, input, hidden):\n",
        "        embedded = self.embedding(input).view(1, 1, -1)\n",
        "        output = embedded\n",
        "        output, hidden = self.gru(output, hidden)\n",
        "        return output, hidden\n",
        "\n",
        "    def initHidden(self):\n",
        "        return torch.zeros(1, 1, self.hidden_size, device=device)"
      ],
      "execution_count": null,
      "outputs": []
    },
    {
      "cell_type": "markdown",
      "metadata": {
        "id": "jtSHR-qRBkgJ"
      },
      "source": [
        "#Simple Decoder\n",
        "\n",
        "In the simplest seq2seq decoder we use only last output of the encoder.\n",
        "This last output is sometimes called the *context vector* as it encodes\n",
        "context from the entire sequence. This context vector is used as the\n",
        "initial hidden state of the decoder.\n",
        "\n",
        "At every step of decoding, the decoder is given an input token and\n",
        "hidden state. The initial input token is the start-of-string ``<SOS>``\n",
        "token, and the first hidden state is the context vector (the encoder's\n",
        "last hidden state).\n",
        "\n",
        "![image](https://pytorch.org/tutorials/_images/decoder-network.png)\n",
        "\n",
        "\n",
        "\n"
      ]
    },
    {
      "cell_type": "code",
      "metadata": {
        "id": "S03unHpN_p72"
      },
      "source": [
        "class DecoderRNN(nn.Module):\n",
        "    def __init__(self, hidden_size, output_size):\n",
        "        super(DecoderRNN, self).__init__()\n",
        "        self.hidden_size = hidden_size\n",
        "\n",
        "        self.embedding = nn.Embedding(output_size, hidden_size)\n",
        "        self.gru = nn.GRU(hidden_size, hidden_size)\n",
        "        self.out = nn.Linear(hidden_size, output_size)\n",
        "        self.softmax = nn.LogSoftmax(dim=1)\n",
        "\n",
        "    def forward(self, input, hidden):\n",
        "        output = self.embedding(input).view(1, 1, -1)\n",
        "        output = F.relu(output)\n",
        "        output, hidden = self.gru(output, hidden)\n",
        "        output = self.softmax(self.out(output[0]))\n",
        "        return output, hidden\n",
        "\n",
        "    def initHidden(self):\n",
        "        return torch.zeros(1, 1, self.hidden_size, device=device)"
      ],
      "execution_count": null,
      "outputs": []
    },
    {
      "cell_type": "markdown",
      "metadata": {
        "id": "jhlOJCcdCAbF"
      },
      "source": [
        "# Attention Decoder\n",
        "\n",
        "If only the context vector is passed between the encoder and decoder,\n",
        "that single vector carries the burden of encoding the entire sentence.\n",
        "\n",
        "Attention allows the decoder network to \"focus\" on a different part of\n",
        "the encoder's outputs for every step of the decoder's own outputs. First\n",
        "we calculate a set of *attention weights*. These will be multiplied by\n",
        "the encoder output vectors to create a weighted combination. The result\n",
        "(called ``attn_applied`` in the code) should contain information about\n",
        "that specific part of the input sequence, and thus help the decoder\n",
        "choose the right output words.\n",
        "\n",
        "![image](https://i.imgur.com/1152PYf.png)\n",
        "\n",
        "Calculating the attention weights is done with another feed-forward\n",
        "layer ``attn``, using the decoder's input and hidden state as inputs.\n",
        "Because there are sentences of all sizes in the training data, to\n",
        "actually create and train this layer we have to choose a maximum\n",
        "sentence length (input length, for encoder outputs) that it can apply\n",
        "to. Sentences of the maximum length will use all the attention weights,\n",
        "while shorter sentences will only use the first few.\n",
        "\n",
        "![image](https://pytorch.org/tutorials/_images/attention-decoder-network.png)\n",
        "\n",
        "\n",
        "\n"
      ]
    },
    {
      "cell_type": "code",
      "metadata": {
        "id": "J5DWvg2dBwkA"
      },
      "source": [
        "class AttnDecoderRNN(nn.Module):\n",
        "    def __init__(self, hidden_size, output_size, dropout_p=0.1, max_length=MAX_LENGTH):\n",
        "        super(AttnDecoderRNN, self).__init__()\n",
        "        self.hidden_size = hidden_size\n",
        "        self.output_size = output_size\n",
        "        self.dropout_p = dropout_p\n",
        "        self.max_length = max_length\n",
        "\n",
        "        self.embedding = nn.Embedding(self.output_size, self.hidden_size)\n",
        "        self.attn = nn.Linear(self.hidden_size * 2, self.max_length)\n",
        "        self.attn_combine = nn.Linear(self.hidden_size * 2, self.hidden_size)\n",
        "        self.dropout = nn.Dropout(self.dropout_p)\n",
        "        self.gru = nn.GRU(self.hidden_size, self.hidden_size)\n",
        "        self.out = nn.Linear(self.hidden_size, self.output_size)\n",
        "\n",
        "    def forward(self, input, hidden, encoder_outputs):\n",
        "        embedded = self.embedding(input).view(1, 1, -1)\n",
        "        embedded = self.dropout(embedded)\n",
        "\n",
        "        attn_weights = F.softmax(\n",
        "            self.attn(torch.cat((embedded[0], hidden[0]), 1)), dim=1)\n",
        "        attn_applied = torch.bmm(attn_weights.unsqueeze(0),\n",
        "                                 encoder_outputs.unsqueeze(0))\n",
        "\n",
        "        output = torch.cat((embedded[0], attn_applied[0]), 1)\n",
        "        output = self.attn_combine(output).unsqueeze(0)\n",
        "\n",
        "        output = F.relu(output)\n",
        "        output, hidden = self.gru(output, hidden)\n",
        "\n",
        "        output = F.log_softmax(self.out(output[0]), dim=1)\n",
        "        return output, hidden, attn_weights\n",
        "\n",
        "    def initHidden(self):\n",
        "        return torch.zeros(1, 1, self.hidden_size, device=device)"
      ],
      "execution_count": null,
      "outputs": []
    },
    {
      "cell_type": "markdown",
      "metadata": {
        "id": "98k5zgVkCyEC"
      },
      "source": [
        "<div class=\"alert alert-info\"><h4>Note</h4><p>There are other forms of attention that work around the length\n",
        "  limitation by using a relative position approach. Read about \"local\n",
        "  attention\" in `Effective Approaches to Attention-based Neural Machine\n",
        "  Translation <https://arxiv.org/abs/1508.04025>`__.</p></div>\n",
        "\n",
        "Training\n",
        "========\n",
        "\n",
        "Preparing Training Data\n",
        "-----------------------\n",
        "\n",
        "To train, for each pair we will need an input tensor (indexes of the\n",
        "words in the input sentence) and target tensor (indexes of the words in\n",
        "the target sentence). While creating these vectors we will append the\n",
        "EOS token to both sequences.\n",
        "\n",
        "\n"
      ]
    },
    {
      "cell_type": "code",
      "metadata": {
        "id": "Ab5arFzzCVdQ"
      },
      "source": [
        "def indexesFromSentence(lang, sentence):\n",
        "    return [lang.word2index[word] for word in sentence.split(' ')]\n",
        "\n",
        "\n",
        "def tensorFromSentence(lang, sentence):\n",
        "    indexes = indexesFromSentence(lang, sentence)\n",
        "    indexes.append(EOS_token)\n",
        "    return torch.tensor(indexes, dtype=torch.long, device=device).view(-1, 1)\n",
        "\n",
        "\n",
        "def tensorsFromPair(pair):\n",
        "    input_tensor = tensorFromSentence(input_lang, pair[0])\n",
        "    target_tensor = tensorFromSentence(output_lang, pair[1])\n",
        "    return (input_tensor, target_tensor)"
      ],
      "execution_count": null,
      "outputs": []
    },
    {
      "cell_type": "markdown",
      "metadata": {
        "id": "EidNoz5ZDPXE"
      },
      "source": [
        "Training the Model\n",
        "------------------\n",
        "\n",
        "To train we run the input sentence through the encoder, and keep track\n",
        "of every output and the latest hidden state. Then the decoder is given\n",
        "the ``<SOS>`` token as its first input, and the last hidden state of the\n",
        "encoder as its first hidden state.\n",
        "\n",
        "\"Teacher forcing\" is the concept of using the real target outputs as\n",
        "each next input, instead of using the decoder's guess as the next input.\n",
        "Using teacher forcing causes it to converge faster but [when the trained network is exploited, it may exhibit instability](http://citeseerx.ist.psu.edu/viewdoc/download?doi=10.1.1.378.4095&rep=rep1&type=pdf).\n",
        "\n",
        "You can observe outputs of teacher-forced networks that read with\n",
        "coherent grammar but wander far from the correct translation -\n",
        "intuitively it has learned to represent the output grammar and can \"pick\n",
        "up\" the meaning once the teacher tells it the first few words, but it\n",
        "has not properly learned how to create the sentence from the translation\n",
        "in the first place.\n",
        "\n",
        "Because of the freedom PyTorch's autograd gives us, we can randomly\n",
        "choose to use teacher forcing or not with a simple if statement. Turn\n",
        "``teacher_forcing_ratio`` up to use more of it.\n",
        "\n",
        "\n"
      ]
    },
    {
      "cell_type": "code",
      "metadata": {
        "id": "wy1hkPWTDNVu"
      },
      "source": [
        "teacher_forcing_ratio = 0.5\n",
        "\n",
        "\n",
        "def train(input_tensor, target_tensor, encoder, decoder, encoder_optimizer, decoder_optimizer, criterion, max_length=MAX_LENGTH):\n",
        "    encoder_hidden = encoder.initHidden()\n",
        "\n",
        "    encoder_optimizer.zero_grad()\n",
        "    decoder_optimizer.zero_grad()\n",
        "\n",
        "    input_length = input_tensor.size(0)\n",
        "    target_length = target_tensor.size(0)\n",
        "\n",
        "    encoder_outputs = torch.zeros(max_length, encoder.hidden_size, device=device)\n",
        "\n",
        "    loss = 0\n",
        "\n",
        "    for ei in range(input_length):\n",
        "        encoder_output, encoder_hidden = encoder(\n",
        "            input_tensor[ei], encoder_hidden)\n",
        "        encoder_outputs[ei] = encoder_output[0, 0]\n",
        "\n",
        "    decoder_input = torch.tensor([[SOS_token]], device=device)\n",
        "\n",
        "    decoder_hidden = encoder_hidden\n",
        "\n",
        "    use_teacher_forcing = True if random.random() < teacher_forcing_ratio else False\n",
        "\n",
        "    if use_teacher_forcing:\n",
        "        # Teacher forcing: Feed the target as the next input\n",
        "        for di in range(target_length):\n",
        "            decoder_output, decoder_hidden, decoder_attention = decoder(\n",
        "                decoder_input, decoder_hidden, encoder_outputs)\n",
        "            loss += criterion(decoder_output, target_tensor[di])\n",
        "            decoder_input = target_tensor[di]  # Teacher forcing\n",
        "\n",
        "    else:\n",
        "        # Without teacher forcing: use its own predictions as the next input\n",
        "        for di in range(target_length):\n",
        "            decoder_output, decoder_hidden, decoder_attention = decoder(\n",
        "                decoder_input, decoder_hidden, encoder_outputs)\n",
        "            topv, topi = decoder_output.topk(1)\n",
        "            decoder_input = topi.squeeze().detach()  # detach from history as input\n",
        "\n",
        "            loss += criterion(decoder_output, target_tensor[di])\n",
        "            if decoder_input.item() == EOS_token:\n",
        "                break\n",
        "\n",
        "    loss.backward()\n",
        "\n",
        "    encoder_optimizer.step()\n",
        "    decoder_optimizer.step()\n",
        "\n",
        "    return loss.item() / target_length"
      ],
      "execution_count": null,
      "outputs": []
    },
    {
      "cell_type": "code",
      "metadata": {
        "id": "gxB2fsoLFjAZ"
      },
      "source": [
        "import time\n",
        "import math\n",
        "\n",
        "\n",
        "def asMinutes(s):\n",
        "    m = math.floor(s / 60)\n",
        "    s -= m * 60\n",
        "    return '%dm %ds' % (m, s)\n",
        "\n",
        "\n",
        "def timeSince(since, percent):\n",
        "    now = time.time()\n",
        "    s = now - since\n",
        "    es = s / (percent)\n",
        "    rs = es - s\n",
        "    return '%s (- %s)' % (asMinutes(s), asMinutes(rs))"
      ],
      "execution_count": null,
      "outputs": []
    },
    {
      "cell_type": "markdown",
      "metadata": {
        "id": "fRP19bOJFwbX"
      },
      "source": [
        "The whole training process looks like this:\n",
        "\n",
        "-  Start a timer\n",
        "-  Initialize optimizers and criterion\n",
        "-  Create set of training pairs\n",
        "-  Start empty losses array for plotting\n",
        "\n",
        "Then we call ``train`` many times and occasionally print the progress (%\n",
        "of examples, time so far, estimated time) and average loss.\n",
        "\n",
        "\n"
      ]
    },
    {
      "cell_type": "code",
      "metadata": {
        "id": "5zbeFZJUFkra"
      },
      "source": [
        "def trainIters(encoder, decoder, n_iters, print_every=1000, plot_every=100, learning_rate=0.01):\n",
        "    start = time.time()\n",
        "    plot_losses = []\n",
        "    print_loss_total = 0  # Reset every print_every\n",
        "    plot_loss_total = 0  # Reset every plot_every\n",
        "\n",
        "    encoder_optimizer = optim.SGD(encoder.parameters(), lr=learning_rate)\n",
        "    decoder_optimizer = optim.SGD(decoder.parameters(), lr=learning_rate)\n",
        "    training_pairs = [tensorsFromPair(random.choice(pairs))\n",
        "                      for i in range(n_iters)]\n",
        "    criterion = nn.NLLLoss()\n",
        "\n",
        "    for iter in range(1, n_iters + 1):\n",
        "        training_pair = training_pairs[iter - 1]\n",
        "        input_tensor = training_pair[0]\n",
        "        target_tensor = training_pair[1]\n",
        "\n",
        "        loss = train(input_tensor, target_tensor, encoder,\n",
        "                     decoder, encoder_optimizer, decoder_optimizer, criterion)\n",
        "        print_loss_total += loss\n",
        "        plot_loss_total += loss\n",
        "\n",
        "        if iter % print_every == 0:\n",
        "            print_loss_avg = print_loss_total / print_every\n",
        "            print_loss_total = 0\n",
        "            print('%s (%d %d%%) %.4f' % (timeSince(start, iter / n_iters),\n",
        "                                         iter, iter / n_iters * 100, print_loss_avg))\n",
        "\n",
        "        if iter % plot_every == 0:\n",
        "            plot_loss_avg = plot_loss_total / plot_every\n",
        "            plot_losses.append(plot_loss_avg)\n",
        "            plot_loss_total = 0\n",
        "\n",
        "    showPlot(plot_losses)"
      ],
      "execution_count": null,
      "outputs": []
    },
    {
      "cell_type": "markdown",
      "metadata": {
        "id": "dyvlB_f9F5Cg"
      },
      "source": [
        "Plotting results\n",
        "----------------\n",
        "\n",
        "Plotting is done with matplotlib, using the array of loss values\n",
        "``plot_losses`` saved while training.\n",
        "\n",
        "\n"
      ]
    },
    {
      "cell_type": "code",
      "metadata": {
        "id": "KLA6D28eF0mh"
      },
      "source": [
        "import matplotlib.pyplot as plt\n",
        "plt.switch_backend('agg')\n",
        "import matplotlib.ticker as ticker\n",
        "import numpy as np\n",
        "%matplotlib inline\n",
        "\n",
        "def showPlot(points):\n",
        "    plt.figure()\n",
        "    fig, ax = plt.subplots()\n",
        "    # this locator puts ticks at regular intervals\n",
        "    loc = ticker.MultipleLocator(base=0.2)\n",
        "    ax.yaxis.set_major_locator(loc)\n",
        "    plt.plot(points)\n",
        "    plt.show()"
      ],
      "execution_count": null,
      "outputs": []
    },
    {
      "cell_type": "markdown",
      "metadata": {
        "id": "FHEx4QD4F9tS"
      },
      "source": [
        "Evaluation\n",
        "==========\n",
        "\n",
        "Evaluation is mostly the same as training, but there are no targets so\n",
        "we simply feed the decoder's predictions back to itself for each step.\n",
        "Every time it predicts a word we add it to the output string, and if it\n",
        "predicts the EOS token we stop there. We also store the decoder's\n",
        "attention outputs for display later.\n",
        "\n",
        "\n"
      ]
    },
    {
      "cell_type": "code",
      "metadata": {
        "id": "MEAgaWR9F6hc"
      },
      "source": [
        "def evaluate(encoder, decoder, sentence, max_length=MAX_LENGTH):\n",
        "    with torch.no_grad():\n",
        "        input_tensor = tensorFromSentence(input_lang, sentence)\n",
        "        input_length = input_tensor.size()[0]\n",
        "        encoder_hidden = encoder.initHidden()\n",
        "\n",
        "        encoder_outputs = torch.zeros(max_length, encoder.hidden_size, device=device)\n",
        "\n",
        "        for ei in range(input_length):\n",
        "            encoder_output, encoder_hidden = encoder(input_tensor[ei],\n",
        "                                                     encoder_hidden)\n",
        "            encoder_outputs[ei] += encoder_output[0, 0]\n",
        "\n",
        "        decoder_input = torch.tensor([[SOS_token]], device=device)  # SOS\n",
        "\n",
        "        decoder_hidden = encoder_hidden\n",
        "\n",
        "        decoded_words = []\n",
        "        decoder_attentions = torch.zeros(max_length, max_length)\n",
        "\n",
        "        for di in range(max_length):\n",
        "            decoder_output, decoder_hidden, decoder_attention = decoder(\n",
        "                decoder_input, decoder_hidden, encoder_outputs)\n",
        "            decoder_attentions[di] = decoder_attention.data\n",
        "            topv, topi = decoder_output.data.topk(1)\n",
        "            if topi.item() == EOS_token:\n",
        "                decoded_words.append('eos')\n",
        "                break\n",
        "            else:\n",
        "                decoded_words.append(output_lang.index2word[topi.item()])\n",
        "\n",
        "            decoder_input = topi.squeeze().detach()\n",
        "\n",
        "        return decoded_words, decoder_attentions[:di + 1]"
      ],
      "execution_count": null,
      "outputs": []
    },
    {
      "cell_type": "markdown",
      "metadata": {
        "id": "LdR_rru_GLMJ"
      },
      "source": [
        "We can evaluate random sentences from the training set and print out the\n",
        "input, target, and output to make some subjective quality judgements:\n",
        "\n",
        "\n"
      ]
    },
    {
      "cell_type": "code",
      "metadata": {
        "id": "LIQlM4-RGFVH"
      },
      "source": [
        "def evaluateRandomly(encoder, decoder, n=10):\n",
        "    for i in range(n):\n",
        "        pair = random.choice(pairs)\n",
        "        print('>', pair[0])\n",
        "        print('=', pair[1])\n",
        "        output_words, attentions = evaluate(encoder, decoder, pair[0])\n",
        "        output_sentence = ' '.join(output_words)\n",
        "        print('<', output_sentence)\n",
        "        print('')"
      ],
      "execution_count": null,
      "outputs": []
    },
    {
      "cell_type": "markdown",
      "metadata": {
        "id": "UWwk1JLGGO6I"
      },
      "source": [
        "Training and Evaluating\n",
        "=======================\n",
        "\n",
        "With all these helper functions in place (it looks like extra work, but\n",
        "it makes it easier to run multiple experiments) we can actually\n",
        "initialize a network and start training.\n",
        "\n",
        "Remember that the input sentences were heavily filtered. For this small\n",
        "dataset we can use relatively small networks of 256 hidden nodes and a\n",
        "single GRU layer. After about 40 minutes on a MacBook CPU we'll get some\n",
        "reasonable results.\n",
        "\n",
        ".. Note::\n",
        "   If you run this notebook you can train, interrupt the kernel,\n",
        "   evaluate, and continue training later. Comment out the lines where the\n",
        "   encoder and decoder are initialized and run ``trainIters`` again.\n",
        "\n",
        "\n"
      ]
    },
    {
      "cell_type": "code",
      "metadata": {
        "colab": {
          "base_uri": "https://localhost:8080/",
          "height": 540
        },
        "id": "9k8on0pZGNrC",
        "outputId": "6059fc25-ae7e-452d-b73b-9202c2ed8754"
      },
      "source": [
        "%matplotlib inline\n",
        "hidden_size = 100\n",
        "encoder1 = EncoderRNN(input_lang.n_words, hidden_size).to(device)\n",
        "attn_decoder1 = AttnDecoderRNN(hidden_size, output_lang.n_words, dropout_p=0.1).to(device)\n",
        "\n",
        "trainIters(encoder1, attn_decoder1, 75000, print_every=5000)"
      ],
      "execution_count": null,
      "outputs": [
        {
          "output_type": "stream",
          "text": [
            "1m 45s (- 24m 43s) (5000 6%) 3.7059\n",
            "3m 30s (- 22m 49s) (10000 13%) 3.2507\n",
            "5m 14s (- 20m 59s) (15000 20%) 2.9437\n",
            "6m 59s (- 19m 13s) (20000 26%) 2.7650\n",
            "8m 43s (- 17m 26s) (25000 33%) 2.6263\n",
            "10m 27s (- 15m 40s) (30000 40%) 2.5364\n",
            "12m 9s (- 13m 53s) (35000 46%) 2.4398\n",
            "13m 52s (- 12m 8s) (40000 53%) 2.3254\n",
            "15m 35s (- 10m 23s) (45000 60%) 2.2284\n",
            "17m 18s (- 8m 39s) (50000 66%) 2.1396\n",
            "19m 2s (- 6m 55s) (55000 73%) 2.0795\n",
            "20m 46s (- 5m 11s) (60000 80%) 2.0065\n",
            "22m 29s (- 3m 27s) (65000 86%) 1.9754\n",
            "24m 12s (- 1m 43s) (70000 93%) 1.8945\n",
            "25m 56s (- 0m 0s) (75000 100%) 1.8313\n"
          ],
          "name": "stdout"
        },
        {
          "output_type": "display_data",
          "data": {
            "text/plain": [
              "<Figure size 432x288 with 0 Axes>"
            ]
          },
          "metadata": {
            "tags": []
          }
        },
        {
          "output_type": "display_data",
          "data": {
            "image/png": "[encoded data removed]",
            "text/plain": [
              "<Figure size 432x288 with 1 Axes>"
            ]
          },
          "metadata": {
            "tags": [],
            "needs_background": "light"
          }
        }
      ]
    },
    {
      "cell_type": "code",
      "metadata": {
        "colab": {
          "base_uri": "https://localhost:8080/"
        },
        "id": "kS1MO6ndGUks",
        "outputId": "0ec2ffdd-230f-41bf-d109-438682e59007"
      },
      "source": [
        "evaluateRandomly(encoder1, attn_decoder1)"
      ],
      "execution_count": null,
      "outputs": [
        {
          "output_type": "stream",
          "text": [
            "> i m not selling you my car .\n",
            "= je ne vous vends pas ma voiture .\n",
            "< je ne vais pas pas votre . . eos\n",
            "\n",
            "> we are his children .\n",
            "= nous sommes ses enfants .\n",
            "< nous sommes des amis . eos\n",
            "\n",
            "> i m doing all i can .\n",
            "= je fais tout ce que je peux .\n",
            "< je ai bien que que ca . eos\n",
            "\n",
            "> i m worn out .\n",
            "= je suis epuise .\n",
            "< je suis deja . eos\n",
            "\n",
            "> i m very thirsty .\n",
            "= je meurs de soif .\n",
            "< j ai tres faim . eos\n",
            "\n",
            "> you re crafty .\n",
            "= vous etes ruses .\n",
            "< vous etes malin . eos\n",
            "\n",
            "> you re fascinating .\n",
            "= tu es fascinant .\n",
            "< vous etes puissant . eos\n",
            "\n",
            "> i m very glad to see you again .\n",
            "= je suis tres content de vous revoir .\n",
            "< je suis tres heureux de vous voir . eos\n",
            "\n",
            "> i m fussy .\n",
            "= je suis tatillon .\n",
            "< je suis fatigue . eos\n",
            "\n",
            "> she is great at skiing .\n",
            "= elle est tres bonne en ski .\n",
            "< elle est tres bonne . . eos\n",
            "\n"
          ],
          "name": "stdout"
        }
      ]
    },
    {
      "cell_type": "markdown",
      "metadata": {
        "id": "g4hBG7C9GYzY"
      },
      "source": [
        "Visualizing Attention\n",
        "---------------------\n",
        "\n",
        "A useful property of the attention mechanism is its highly interpretable\n",
        "outputs. Because it is used to weight specific encoder outputs of the\n",
        "input sequence, we can imagine looking where the network is focused most\n",
        "at each time step.\n",
        "\n",
        "You could simply run ``plt.matshow(attentions)`` to see attention output\n",
        "displayed as a matrix, with the columns being input steps and rows being\n",
        "output steps:\n",
        "\n",
        "\n"
      ]
    },
    {
      "cell_type": "code",
      "metadata": {
        "colab": {
          "base_uri": "https://localhost:8080/",
          "height": 292
        },
        "id": "lO7f_BrwGYoO",
        "outputId": "4a27c9a4-e72a-4b25-8833-1bea4b8ae6b9"
      },
      "source": [
        "%matplotlib inline\n",
        "output_words, attentions = evaluate(\n",
        "    encoder1, attn_decoder1,\"you are replaceable\")\n",
        "plt.matshow(attentions.numpy())"
      ],
      "execution_count": null,
      "outputs": [
        {
          "output_type": "execute_result",
          "data": {
            "text/plain": [
              "<matplotlib.image.AxesImage at 0x7f8072feb150>"
            ]
          },
          "metadata": {
            "tags": []
          },
          "execution_count": 61
        },
        {
          "output_type": "display_data",
          "data": {
            "image/png": "[encoded data removed]",
            "text/plain": [
              "<Figure size 576x288 with 1 Axes>"
            ]
          },
          "metadata": {
            "tags": [],
            "needs_background": "light"
          }
        }
      ]
    },
    {
      "cell_type": "markdown",
      "metadata": {
        "id": "1eCUDJBCGi-a"
      },
      "source": [
        "For a better viewing experience we will do the extra work of adding axes\n",
        "and labels:"
      ]
    },
    {
      "cell_type": "code",
      "metadata": {
        "colab": {
          "base_uri": "https://localhost:8080/",
          "height": 1000
        },
        "id": "mclch1OrGXHo",
        "outputId": "d7236164-b71b-4f77-d967-ad16407f25ec"
      },
      "source": [
        "def showAttention(input_sentence, output_words, attentions):\n",
        "    # Set up figure with colorbar\n",
        "    fig = plt.figure()\n",
        "    ax = fig.add_subplot(111)\n",
        "    cax = ax.matshow(attentions.numpy(), cmap='bone')\n",
        "    fig.colorbar(cax)\n",
        "\n",
        "    # Set up axes\n",
        "    ax.set_xticklabels([''] + input_sentence.split(' ') +\n",
        "                       ['eos'], rotation=90)\n",
        "    ax.set_yticklabels([''] + output_words)\n",
        "\n",
        "    # Show label at every tick\n",
        "    ax.xaxis.set_major_locator(ticker.MultipleLocator(1))\n",
        "    ax.yaxis.set_major_locator(ticker.MultipleLocator(1))\n",
        "\n",
        "    plt.show()\n",
        "\n",
        "\n",
        "def evaluateAndShowAttention(input_sentence):\n",
        "    output_words, attentions = evaluate(\n",
        "        encoder1, attn_decoder1, input_sentence)\n",
        "    print('input =', input_sentence)\n",
        "    print('output =', ' '.join(output_words))\n",
        "    showAttention(input_sentence, output_words, attentions)\n",
        "\n",
        "\n",
        "evaluateAndShowAttention(\"i m really proud of this\")\n",
        "\n",
        "evaluateAndShowAttention(\"they are out shopping .\")\n",
        "\n",
        "evaluateAndShowAttention(\"he is an intelligent boy .\")\n",
        "\n",
        "evaluateAndShowAttention(\"i m sorry i missed your birthday .\")"
      ],
      "execution_count": null,
      "outputs": [
        {
          "output_type": "stream",
          "text": [
            "input = i m really proud of this\n",
            "output = je suis vraiment heureux . eos\n"
          ],
          "name": "stdout"
        },
        {
          "output_type": "display_data",
          "data": {
            "image/png": "[encoded data removed]",
            "text/plain": [
              "<Figure size 432x288 with 2 Axes>"
            ]
          },
          "metadata": {
            "tags": [],
            "needs_background": "light"
          }
        },
        {
          "output_type": "stream",
          "text": [
            "input = they are out shopping .\n",
            "output = ils sont en des ennuis . eos\n"
          ],
          "name": "stdout"
        },
        {
          "output_type": "display_data",
          "data": {
            "image/png": "[encoded data removed]",
            "text/plain": [
              "<Figure size 432x288 with 2 Axes>"
            ]
          },
          "metadata": {
            "tags": [],
            "needs_background": "light"
          }
        },
        {
          "output_type": "stream",
          "text": [
            "input = he is an intelligent boy .\n",
            "output = c est une personne . . eos\n"
          ],
          "name": "stdout"
        },
        {
          "output_type": "display_data",
          "data": {
            "image/png": "[encoded data removed]",
            "text/plain": [
              "<Figure size 432x288 with 2 Axes>"
            ]
          },
          "metadata": {
            "tags": [],
            "needs_background": "light"
          }
        },
        {
          "output_type": "stream",
          "text": [
            "input = i m sorry i missed your birthday .\n",
            "output = je suis desole a je ne votre pas . eos\n"
          ],
          "name": "stdout"
        },
        {
          "output_type": "display_data",
          "data": {
            "image/png": "[encoded data removed]",
            "text/plain": [
              "<Figure size 432x288 with 2 Axes>"
            ]
          },
          "metadata": {
            "tags": [],
            "needs_background": "light"
          }
        }
      ]
    },
    {
      "cell_type": "code",
      "metadata": {
        "id": "5J5kUfdiGlSs"
      },
      "source": [
        ""
      ],
      "execution_count": null,
      "outputs": []
    }
  ]
}